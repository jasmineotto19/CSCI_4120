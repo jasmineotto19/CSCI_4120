{
 "cells": [
  {
   "cell_type": "markdown",
   "metadata": {},
   "source": [
    "# Group Activity 4 Elbow Method "
   ]
  },
  {
   "cell_type": "code",
   "execution_count": 1,
   "metadata": {},
   "outputs": [],
   "source": [
    "from sklearn.cluster import KMeans\n",
    "# include functions to measure machine learning models' performance\n",
    "from sklearn import metrics\n",
    "from scipy.spatial.distance import cdist\n",
    "import numpy as np\n",
    "import matplotlib.pyplot as plt"
   ]
  },
  {
   "cell_type": "code",
   "execution_count": 2,
   "metadata": {},
   "outputs": [
    {
     "data": {
      "text/plain": [
       "<matplotlib.collections.PathCollection at 0x7fe78fb30150>"
      ]
     },
     "execution_count": 2,
     "metadata": {},
     "output_type": "execute_result"
    },
    {
     "data": {
      "image/png": "[encoded data removed]",
      "text/plain": [
       "<Figure size 432x288 with 1 Axes>"
      ]
     },
     "metadata": {
      "needs_background": "light"
     },
     "output_type": "display_data"
    }
   ],
   "source": [
    "x1 = np.array([3, 1, 1, 2, 1, 6, 6, 6, 5, 6, 7, 8, 9, 8, 9, 9, 8])\n",
    "x2 = np.array([5, 4, 5, 6, 5, 8, 6, 7, 6, 7, 1, 2, 1, 2, 3, 2, 3])\n",
    "\n",
    "plt.plot()\n",
    "plt.xlim([0, 10])\n",
    "plt.ylim([0, 10])\n",
    "plt.title('Dataset')\n",
    "plt.scatter(x1, x2)"
   ]
  },
  {
   "cell_type": "code",
   "execution_count": 20,
   "metadata": {},
   "outputs": [
    {
     "name": "stdout",
     "output_type": "stream",
     "text": [
      "combined list:[(3, 5), (1, 4), (1, 5), (2, 6), (1, 5), (6, 8), (6, 6), (6, 7), (5, 6), (6, 7), (7, 1), (8, 2), (9, 1), (8, 2), (9, 3), (9, 2), (8, 3)]\n",
      "combined np arrary:\n",
      "[[3 5]\n",
      " [1 4]\n",
      " [1 5]\n",
      " [2 6]\n",
      " [1 5]\n",
      " [6 8]\n",
      " [6 6]\n",
      " [6 7]\n",
      " [5 6]\n",
      " [6 7]\n",
      " [7 1]\n",
      " [8 2]\n",
      " [9 1]\n",
      " [8 2]\n",
      " [9 3]\n",
      " [9 2]\n",
      " [8 3]]\n",
      "[3 1 1 2 1 6 6 6 5 6 1 2 1 2 3 2 3]\n",
      "(17, 2)\n"
     ]
    },
    {
     "data": {
      "image/png": "[encoded data removed]",
      "text/plain": [
       "<Figure size 432x288 with 1 Axes>"
      ]
     },
     "metadata": {
      "needs_background": "light"
     },
     "output_type": "display_data"
    }
   ],
   "source": [
    "# create new plot and data\n",
    "plt.plot()\n",
    "# using a zip function, we combine x1 and x2 as a 2D array\n",
    "X = np.array(list(zip(x1, x2))).reshape(len(x1), 2)\n",
    "print \"combined list:\" + str(zip(x1, x2))\n",
    "print \"combined np arrary:\\n\" + str(X)\n",
    "print np.min(X, axis=1)\n",
    "print X.shape"
   ]
  },
  {
   "cell_type": "code",
   "execution_count": 14,
   "metadata": {},
   "outputs": [
    {
     "data": {
      "text/plain": [
       "Text(0.5,1,'The Elbow Method showing the optimal k')"
      ]
     },
     "execution_count": 14,
     "metadata": {},
     "output_type": "execute_result"
    },
    {
     "data": {
      "image/png": "[encoded data removed]",
      "text/plain": [
       "<Figure size 432x288 with 1 Axes>"
      ]
     },
     "metadata": {
      "needs_background": "light"
     },
     "output_type": "display_data"
    }
   ],
   "source": [
    "distortions = []\n",
    "for k in range(1,10):\n",
    "    kmeanModel = #TODO use KMeans() to create a K-means model#\n",
    "    kmeanModel.fit(X)\n",
    "    # use cdist to calculate euclidean distance between centroids and the corresponding points,\n",
    "    # then calculate the mean distances\n",
    "    # Here is the url for cdist: https://docs.scipy.org/doc/scipy/reference/generated/scipy.spatial.distance.cdist.html\n",
    "    # we need np.min because cdist will calculate the distances between X and all the centroids. We only need the minimum distance\n",
    "    # because the min value is the distance between the corresponding centroid with the data\n",
    "    # axis = 1 because we want to choose the first dimentional min value\n",
    "    distortions.append(sum(np.min(cdist(X, '''TODO Centroids''', '''TODO Method to calculate distance'''), axis=1)) / X.shape[0])\n",
    "\n",
    "# Plot the elbow\n",
    "plt.plot(K, distortions, 'bx-')\n",
    "plt.xlabel('k')\n",
    "plt.ylabel('Distortion')\n",
    "plt.title('The Elbow Method showing the optimal k')"
   ]
  },
  {
   "cell_type": "code",
   "execution_count": null,
   "metadata": {},
   "outputs": [],
   "source": []
  }
 ],
 "metadata": {
  "kernelspec": {
   "display_name": "Python 2",
   "language": "python",
   "name": "python2"
  },
  "language_info": {
   "codemirror_mode": {
    "name": "ipython",
    "version": 2
   },
   "file_extension": ".py",
   "mimetype": "text/x-python",
   "name": "python",
   "nbconvert_exporter": "python",
   "pygments_lexer": "ipython2",
   "version": "2.7.15+"
  }
 },
 "nbformat": 4,
 "nbformat_minor": 2
}
